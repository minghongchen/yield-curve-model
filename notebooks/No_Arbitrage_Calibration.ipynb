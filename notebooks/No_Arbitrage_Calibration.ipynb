{
 "cells": [
  {
   "cell_type": "markdown",
   "id": "bd4e4dfc-c8d5-4981-b63f-c5e138adb1f2",
   "metadata": {},
   "source": [
    "# Arbitrage-free Calibration"
   ]
  },
  {
   "cell_type": "markdown",
   "id": "3c0461b4-001e-43e8-a8f8-2a9e7670e79a",
   "metadata": {},
   "source": []
  }
 ],
 "metadata": {
  "kernelspec": {
   "display_name": "Python (yield_curve_est)",
   "language": "python",
   "name": "yieldest"
  },
  "language_info": {
   "codemirror_mode": {
    "name": "ipython",
    "version": 3
   },
   "file_extension": ".py",
   "mimetype": "text/x-python",
   "name": "python",
   "nbconvert_exporter": "python",
   "pygments_lexer": "ipython3",
   "version": "3.13.1"
  }
 },
 "nbformat": 4,
 "nbformat_minor": 5
}
